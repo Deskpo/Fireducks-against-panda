{
  "nbformat": 4,
  "nbformat_minor": 0,
  "metadata": {
    "colab": {
      "provenance": []
    },
    "kernelspec": {
      "name": "python3",
      "display_name": "Python 3"
    },
    "language_info": {
      "name": "python"
    }
  },
  "cells": [
    {
      "cell_type": "code",
      "execution_count": null,
      "metadata": {
        "colab": {
          "base_uri": "https://localhost:8080/"
        },
        "id": "2mEvYtubbDkU",
        "outputId": "2bbd3f08-c789-4366-c9f4-e10ab7563f79"
      },
      "outputs": [
        {
          "output_type": "stream",
          "name": "stdout",
          "text": [
            "Collecting fireducks\n",
            "  Downloading fireducks-1.2.6-cp311-cp311-manylinux_2_28_x86_64.whl.metadata (1.0 kB)\n",
            "Requirement already satisfied: pandas in /usr/local/lib/python3.11/dist-packages (2.2.2)\n",
            "Requirement already satisfied: matplotlib in /usr/local/lib/python3.11/dist-packages (3.10.0)\n",
            "Requirement already satisfied: numpy in /usr/local/lib/python3.11/dist-packages (2.0.2)\n",
            "Requirement already satisfied: duckdb in /usr/local/lib/python3.11/dist-packages (1.2.1)\n",
            "Collecting firefw==1.2.6 (from fireducks)\n",
            "  Downloading firefw-1.2.6-py3-none-any.whl.metadata (818 bytes)\n",
            "Collecting pyarrow<19.1,>=19.0 (from fireducks)\n",
            "  Downloading pyarrow-19.0.1-cp311-cp311-manylinux_2_28_x86_64.whl.metadata (3.3 kB)\n",
            "Requirement already satisfied: python-dateutil>=2.8.2 in /usr/local/lib/python3.11/dist-packages (from pandas) (2.8.2)\n",
            "Requirement already satisfied: pytz>=2020.1 in /usr/local/lib/python3.11/dist-packages (from pandas) (2025.2)\n",
            "Requirement already satisfied: tzdata>=2022.7 in /usr/local/lib/python3.11/dist-packages (from pandas) (2025.2)\n",
            "Requirement already satisfied: contourpy>=1.0.1 in /usr/local/lib/python3.11/dist-packages (from matplotlib) (1.3.1)\n",
            "Requirement already satisfied: cycler>=0.10 in /usr/local/lib/python3.11/dist-packages (from matplotlib) (0.12.1)\n",
            "Requirement already satisfied: fonttools>=4.22.0 in /usr/local/lib/python3.11/dist-packages (from matplotlib) (4.57.0)\n",
            "Requirement already satisfied: kiwisolver>=1.3.1 in /usr/local/lib/python3.11/dist-packages (from matplotlib) (1.4.8)\n",
            "Requirement already satisfied: packaging>=20.0 in /usr/local/lib/python3.11/dist-packages (from matplotlib) (24.2)\n",
            "Requirement already satisfied: pillow>=8 in /usr/local/lib/python3.11/dist-packages (from matplotlib) (11.1.0)\n",
            "Requirement already satisfied: pyparsing>=2.3.1 in /usr/local/lib/python3.11/dist-packages (from matplotlib) (3.2.3)\n",
            "Requirement already satisfied: six>=1.5 in /usr/local/lib/python3.11/dist-packages (from python-dateutil>=2.8.2->pandas) (1.17.0)\n",
            "Downloading fireducks-1.2.6-cp311-cp311-manylinux_2_28_x86_64.whl (7.4 MB)\n",
            "\u001b[2K   \u001b[90m━━━━━━━━━━━━━━━━━━━━━━━━━━━━━━━━━━━━━━━━\u001b[0m \u001b[32m7.4/7.4 MB\u001b[0m \u001b[31m32.7 MB/s\u001b[0m eta \u001b[36m0:00:00\u001b[0m\n",
            "\u001b[?25hDownloading firefw-1.2.6-py3-none-any.whl (12 kB)\n",
            "Downloading pyarrow-19.0.1-cp311-cp311-manylinux_2_28_x86_64.whl (42.1 MB)\n",
            "\u001b[2K   \u001b[90m━━━━━━━━━━━━━━━━━━━━━━━━━━━━━━━━━━━━━━━━\u001b[0m \u001b[32m42.1/42.1 MB\u001b[0m \u001b[31m17.0 MB/s\u001b[0m eta \u001b[36m0:00:00\u001b[0m\n",
            "\u001b[?25hInstalling collected packages: pyarrow, firefw, fireducks\n",
            "  Attempting uninstall: pyarrow\n",
            "    Found existing installation: pyarrow 18.1.0\n",
            "    Uninstalling pyarrow-18.1.0:\n",
            "      Successfully uninstalled pyarrow-18.1.0\n",
            "Successfully installed fireducks-1.2.6 firefw-1.2.6 pyarrow-19.0.1\n"
          ]
        }
      ],
      "source": [
        "pip install fireducks pandas matplotlib numpy duckdb"
      ]
    },
    {
      "cell_type": "code",
      "source": [
        "FIREDUCKS_FLAGS = \"--benchmark-mode\""
      ],
      "metadata": {
        "id": "emaksUE4eV7K"
      },
      "execution_count": null,
      "outputs": []
    },
    {
      "cell_type": "code",
      "source": [
        "import pandas as pd\n",
        "import numpy as np\n"
      ],
      "metadata": {
        "id": "24uFJN1ieeQb"
      },
      "execution_count": null,
      "outputs": []
    },
    {
      "cell_type": "code",
      "source": [
        "import pandas as pd\n",
        "import numpy as np\n",
        "\n",
        "# Create 10 Million rows\n",
        "df = pd.DataFrame({\n",
        "    'user_id': np.random.randint(1, 1_000_000, 10_000_000),\n",
        "    'amount': np.random.rand(10_000_000) * 1000,  # up to 1000\n",
        "    'category': np.random.choice(['food', 'tech', 'fashion', 'travel'], 10_000_000),\n",
        "    'timestamp': pd.date_range(start='2021-01-01', periods=10_000_000, freq='s')\n",
        "})\n",
        "\n",
        "# Save to CSV\n",
        "df.to_csv('large_dataset.csv', index=False)\n",
        "\n",
        "print(\"Dataset with 10 Million Rows Generated Successfully!\")\n"
      ],
      "metadata": {
        "colab": {
          "base_uri": "https://localhost:8080/"
        },
        "id": "WEISbO3EemY4",
        "outputId": "9e9c5551-54c8-4e3b-ed80-3265052192cb"
      },
      "execution_count": null,
      "outputs": [
        {
          "output_type": "stream",
          "name": "stdout",
          "text": [
            "Dataset with 10 Million Rows Generated Successfully!\n"
          ]
        }
      ]
    },
    {
      "cell_type": "code",
      "source": [
        "import os\n",
        "import time\n",
        "\n",
        "## for Pandas\n",
        "import pandas as pd\n",
        "start_time = time.time()\n",
        "pdf = pd.read_csv('large_dataset.csv')\n",
        "print(pdf.head())\n",
        "print(\"Pandas Read Time:\", time.time() - start_time)\n",
        "\n",
        "## for FireDucks\n",
        "import fireducks.pandas as fd\n",
        "start_time = time.time()\n",
        "fdf = fd.read_csv('large_dataset.csv')\n",
        "print(fdf.head())\n",
        "print(\"FireDucks Read Time:\", time.time() - start_time)\n"
      ],
      "metadata": {
        "colab": {
          "base_uri": "https://localhost:8080/"
        },
        "id": "UeRJgJYee2o6",
        "outputId": "cdd05bfd-bb48-465e-fea0-32af229fd96a"
      },
      "execution_count": null,
      "outputs": [
        {
          "output_type": "stream",
          "name": "stdout",
          "text": [
            "   user_id      amount category            timestamp\n",
            "0   934577  341.340615     tech  2021-01-01 00:00:00\n",
            "1   494148  513.086437     tech  2021-01-01 00:00:01\n",
            "2   679912  672.714757     food  2021-01-01 00:00:02\n",
            "3   894819  362.887345   travel  2021-01-01 00:00:03\n",
            "4     8480  919.066792     food  2021-01-01 00:00:04\n",
            "Pandas Read Time: 15.400895118713379\n",
            "   user_id      amount category            timestamp\n",
            "0   934577  341.340615     tech  2021-01-01 00:00:00\n",
            "1   494148  513.086437     tech  2021-01-01 00:00:01\n",
            "2   679912  672.714757     food  2021-01-01 00:00:02\n",
            "3   894819  362.887345   travel  2021-01-01 00:00:03\n",
            "4     8480  919.066792     food  2021-01-01 00:00:04\n",
            "FireDucks Read Time: 2.491245746612549\n"
          ]
        }
      ]
    },
    {
      "cell_type": "code",
      "source": [
        "## for Pandas\n",
        "start = time.time()\n",
        "pdf_grouped = pdf.groupby('category')['amount'].mean().reset_index()\n",
        "print(pdf_grouped)\n",
        "print(\"Pandas GroupBy Time:\", time.time() - start)\n",
        "\n",
        "## for FireDucks\n",
        "start = time.time()\n",
        "fdf_grouped = fdf.groupby('category')['amount'].mean().reset_index()\n",
        "print(fdf_grouped)\n",
        "print(\"FireDucks GroupBy Time:\", time.time() - start)"
      ],
      "metadata": {
        "colab": {
          "base_uri": "https://localhost:8080/"
        },
        "id": "AWBC57MtfOVc",
        "outputId": "6b55cad0-62e4-40ff-83d3-ff5d35ac20db"
      },
      "execution_count": null,
      "outputs": [
        {
          "output_type": "stream",
          "name": "stdout",
          "text": [
            "  category      amount\n",
            "0  fashion  500.392240\n",
            "1     food  500.210477\n",
            "2     tech  499.984750\n",
            "3   travel  500.125167\n",
            "Pandas GroupBy Time: 0.9109272956848145\n",
            "  category      amount\n",
            "0  fashion  500.392240\n",
            "1     food  500.210477\n",
            "2     tech  499.984750\n",
            "3   travel  500.125167\n",
            "FireDucks GroupBy Time: 0.2738628387451172\n"
          ]
        }
      ]
    },
    {
      "cell_type": "code",
      "source": [
        "## for Pandas\n",
        "start = time.time()\n",
        "pdf_result = pdf[pdf['amount'] > 500].groupby('category')['amount'].mean().reset_index()\n",
        "print(pdf_result)\n",
        "print(\"Pandas Filter + GroupBy Time:\", time.time() - start)\n",
        "\n",
        "## for FireDucks\n",
        "start = time.time()\n",
        "fdf_result = fdf[fdf['amount'] > 500].groupby('category')['amount'].mean().reset_index()\n",
        "print(fdf_result)\n",
        "print(\"FireDucks Filter + GroupBy Time:\", time.time() - start)\n"
      ],
      "metadata": {
        "colab": {
          "base_uri": "https://localhost:8080/"
        },
        "id": "5QZbKPwlfZnn",
        "outputId": "84d9df88-e98e-45ea-ea3b-5ea3cd9ebb94"
      },
      "execution_count": null,
      "outputs": [
        {
          "output_type": "stream",
          "name": "stdout",
          "text": [
            "  category      amount\n",
            "0  fashion  750.218771\n",
            "1     food  750.100081\n",
            "2     tech  749.654349\n",
            "3   travel  750.094400\n",
            "Pandas Filter + GroupBy Time: 1.0043282508850098\n",
            "  category      amount\n",
            "0  fashion  750.218771\n",
            "1     food  750.100081\n",
            "2     tech  749.654349\n",
            "3   travel  750.094400\n",
            "FireDucks Filter + GroupBy Time: 0.27698278427124023\n"
          ]
        }
      ]
    },
    {
      "cell_type": "code",
      "source": [
        "## for Pandas\n",
        "start = time.time()\n",
        "pdf_sorted = pdf.sort_values('amount', ascending=False).groupby('category').head(5)\n",
        "print(\"Pandas Sort Time:\", time.time() - start)\n",
        "\n",
        "## for FireDucks\n",
        "start = time.time()\n",
        "fdf_sorted = fdf.sort_values('amount', ascending=False).groupby('category').head(5)\n",
        "print(\"FireDucks Sort Time:\", time.time() - start)\n",
        "\n"
      ],
      "metadata": {
        "colab": {
          "base_uri": "https://localhost:8080/"
        },
        "id": "DzLQaz9RfhMc",
        "outputId": "a69df317-5e69-4175-db36-a4470c9cf323"
      },
      "execution_count": null,
      "outputs": [
        {
          "output_type": "stream",
          "name": "stdout",
          "text": [
            "Pandas Sort Time: 11.498527526855469\n",
            "FireDucks Sort Time: 0.0013582706451416016\n"
          ]
        }
      ]
    },
    {
      "cell_type": "code",
      "source": [
        "import matplotlib.pyplot as plt\n",
        "\n",
        "# Operation Names\n",
        "operations = ['CSV Read + Filter', 'GroupBy', 'Filter + GroupBy', 'Sort']\n",
        "\n",
        "# Execution Times (in seconds)\n",
        "pandas_times = [15.40, 0.91, 1.00, 11.49]      # Pandas compile Times\n",
        "fireducks_times = [2.49, 0.27, 0.27, 0.001]     # FireDucks compile Times\n",
        "\n",
        "x = range(len(operations))\n",
        "\n",
        "plt.figure(figsize=(12, 8))\n",
        "plt.bar(x, pandas_times, width=0.35, label='Pandas', color='red')\n",
        "plt.bar([i + 0.35 for i in x], fireducks_times, width=0.35, label='FireDucks', color='cyan')\n",
        "\n",
        "plt.xlabel('Operations')\n",
        "plt.ylabel('Execution Time (seconds)')\n",
        "plt.title('Pandas vs FireDucks - Benchmark Results')\n",
        "plt.xticks([i + 0.175 for i in x], operations, rotation=15)\n",
        "plt.legend()\n",
        "plt.grid(axis='y', linestyle='--', alpha=0.7)\n",
        "\n",
        "plt.tight_layout()\n",
        "plt.show()"
      ],
      "metadata": {
        "colab": {
          "base_uri": "https://localhost:8080/",
          "height": 445
        },
        "id": "wV_f2C5kf-4v",
        "outputId": "cfc66bc4-d49e-43f2-ea55-2cd333ad7199"
      },
      "execution_count": 15,
      "outputs": [
        {
          "output_type": "display_data",
          "data": {
            "text/plain": [
              "<Figure size 1200x800 with 1 Axes>"
            ],
            "image/png": "[encoded data removed]"
          },
          "metadata": {}
        }
      ]
    },
    {
      "cell_type": "markdown",
      "source": [],
      "metadata": {
        "id": "ryoFJIAVkUAf"
      }
    }
  ]
}